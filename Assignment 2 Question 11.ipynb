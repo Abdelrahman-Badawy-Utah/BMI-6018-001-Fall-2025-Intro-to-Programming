{
 "cells": [
  {
   "cell_type": "code",
   "execution_count": null,
   "id": "8e899c15-d1b3-4083-b9f8-17b251109482",
   "metadata": {},
   "outputs": [],
   "source": [
    "#Booleans"
   ]
  },
  {
   "cell_type": "code",
   "execution_count": 1,
   "id": "150db539-fd71-4026-a5be-2f79c1d7a7ba",
   "metadata": {},
   "outputs": [
    {
     "name": "stdout",
     "output_type": "stream",
     "text": [
      "2\n"
     ]
    }
   ],
   "source": [
    "print (True + True - False)"
   ]
  },
  {
   "cell_type": "code",
   "execution_count": null,
   "id": "dbf3b069-81fe-49a1-a57c-d66c004e9e4c",
   "metadata": {},
   "outputs": [],
   "source": [
    "#Booleans2"
   ]
  },
  {
   "cell_type": "code",
   "execution_count": 11,
   "id": "ccf036bf-72bb-441c-8e9f-26452c9f08ca",
   "metadata": {},
   "outputs": [
    {
     "name": "stdout",
     "output_type": "stream",
     "text": [
      "True\n"
     ]
    }
   ],
   "source": [
    "#I have exchanged logical tracker with x to make the code look simpler\n",
    "x = True\n",
    "#True\n",
    "x = x and x #since True + True = True \n",
    "#True\n",
    "x = x or (x - x)\n",
    "print (x)"
   ]
  },
  {
   "cell_type": "code",
   "execution_count": null,
   "id": "b2bac778-ef0a-4145-bca6-5bb5f76bc376",
   "metadata": {},
   "outputs": [],
   "source": [
    "#Strings"
   ]
  },
  {
   "cell_type": "code",
   "execution_count": 12,
   "id": "5c74831a-e402-4efa-84d4-bcb2722f8c41",
   "metadata": {},
   "outputs": [
    {
     "name": "stdout",
     "output_type": "stream",
     "text": [
      " \n"
     ]
    }
   ],
   "source": [
    "string = \"E. Coli\"\n",
    "\n",
    "print (string[2])"
   ]
  },
  {
   "cell_type": "code",
   "execution_count": null,
   "id": "4d518e81-52b3-4982-a738-5ebf10d2ffa8",
   "metadata": {},
   "outputs": [],
   "source": [
    "#Strings 2"
   ]
  },
  {
   "cell_type": "code",
   "execution_count": 13,
   "id": "09f336ad-59c0-4fd9-ae44-c0d0fef13a4a",
   "metadata": {},
   "outputs": [
    {
     "ename": "TypeError",
     "evalue": "'str' object does not support item assignment",
     "output_type": "error",
     "traceback": [
      "\u001b[1;31m---------------------------------------------------------------------------\u001b[0m",
      "\u001b[1;31mTypeError\u001b[0m                                 Traceback (most recent call last)",
      "Cell \u001b[1;32mIn[13], line 7\u001b[0m\n\u001b[0;32m      3\u001b[0m string \u001b[38;5;241m=\u001b[39m \u001b[38;5;124m\"\u001b[39m\u001b[38;5;124mI Bove python\u001b[39m\u001b[38;5;124m\"\u001b[39m\n\u001b[0;32m      5\u001b[0m \u001b[38;5;66;03m#No worries though. I'll just fix that.\u001b[39;00m\n\u001b[1;32m----> 7\u001b[0m string[\u001b[38;5;241m2\u001b[39m]\u001b[38;5;241m=\u001b[39m\u001b[38;5;124m\"\u001b[39m\u001b[38;5;124mL\u001b[39m\u001b[38;5;124m\"\u001b[39m\n",
      "\u001b[1;31mTypeError\u001b[0m: 'str' object does not support item assignment"
     ]
    }
   ],
   "source": [
    "#Oh no! My string has a typo!\n",
    "\n",
    "string = \"I Bove python\"\n",
    "\n",
    "#No worries though. I'll just fix that.\n",
    "\n",
    "string[2]=\"L\"\n",
    "#strings are not mutable, if we need to correct it, we have to assign the string one more time"
   ]
  },
  {
   "cell_type": "code",
   "execution_count": null,
   "id": "d06ccfa0-9597-4b2e-90ee-83d86e3454b9",
   "metadata": {},
   "outputs": [],
   "source": [
    "#Operators 2"
   ]
  },
  {
   "cell_type": "code",
   "execution_count": 17,
   "id": "df7cf448-e581-4510-93bc-9e48fff0714a",
   "metadata": {},
   "outputs": [
    {
     "name": "stdout",
     "output_type": "stream",
     "text": [
      "My name is Abdelrahman\n",
      "11\n"
     ]
    }
   ],
   "source": [
    "#In strings: it works by adding text strings together, for example\n",
    "x = \"My name is \" + \"Abdelrahman\"\n",
    "print(x)\n",
    "# Output: My name is Abdelrahman\n",
    "\n",
    "#However, with integers, it performs mathematical operation (addition) so:\n",
    "x = 3 + 8\n",
    "print(x)\n",
    "# Output: 11"
   ]
  },
  {
   "cell_type": "code",
   "execution_count": null,
   "id": "7ddaec3e-ba61-4e4e-ab8f-400243d3ea5c",
   "metadata": {},
   "outputs": [],
   "source": [
    "#String 3"
   ]
  },
  {
   "cell_type": "code",
   "execution_count": 18,
   "id": "09d3b71f-1881-4d65-9267-b13efa8322e0",
   "metadata": {},
   "outputs": [
    {
     "name": "stdout",
     "output_type": "stream",
     "text": [
      "73\n"
     ]
    }
   ],
   "source": [
    "print (str(7)+str(3))"
   ]
  },
  {
   "cell_type": "code",
   "execution_count": null,
   "id": "0720291e-1218-45dd-8d59-055b7c0ae696",
   "metadata": {},
   "outputs": [],
   "source": []
  }
 ],
 "metadata": {
  "kernelspec": {
   "display_name": "Python 3 (ipykernel)",
   "language": "python",
   "name": "python3"
  },
  "language_info": {
   "codemirror_mode": {
    "name": "ipython",
    "version": 3
   },
   "file_extension": ".py",
   "mimetype": "text/x-python",
   "name": "python",
   "nbconvert_exporter": "python",
   "pygments_lexer": "ipython3",
   "version": "3.11.7"
  }
 },
 "nbformat": 4,
 "nbformat_minor": 5
}
