{
 "cells": [
  {
   "cell_type": "code",
   "execution_count": 4,
   "id": "c68231d9-7c8d-4318-8199-b26903dfbf91",
   "metadata": {},
   "outputs": [
    {
     "name": "stdout",
     "output_type": "stream",
     "text": [
      "24.034609838166958\n"
     ]
    }
   ],
   "source": [
    "Weight = 60 #KG\n",
    "height = 1.58 #Meters\n",
    "BMI = Weight / (height **2)\n",
    "print (BMI)"
   ]
  },
  {
   "cell_type": "code",
   "execution_count": null,
   "id": "3afce4b2-bb29-4003-8e63-56844b10b144",
   "metadata": {},
   "outputs": [],
   "source": []
  }
 ],
 "metadata": {
  "kernelspec": {
   "display_name": "Python 3 (ipykernel)",
   "language": "python",
   "name": "python3"
  },
  "language_info": {
   "codemirror_mode": {
    "name": "ipython",
    "version": 3
   },
   "file_extension": ".py",
   "mimetype": "text/x-python",
   "name": "python",
   "nbconvert_exporter": "python",
   "pygments_lexer": "ipython3",
   "version": "3.11.7"
  }
 },
 "nbformat": 4,
 "nbformat_minor": 5
}
